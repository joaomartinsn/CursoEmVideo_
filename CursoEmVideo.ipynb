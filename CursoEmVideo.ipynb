{
  "nbformat": 4,
  "nbformat_minor": 0,
  "metadata": {
    "colab": {
      "provenance": [],
      "authorship_tag": "ABX9TyMtWPU0Wsy/SplqMwzMGo5u",
      "include_colab_link": true
    },
    "kernelspec": {
      "name": "python3",
      "display_name": "Python 3"
    },
    "language_info": {
      "name": "python"
    }
  },
  "cells": [
    {
      "cell_type": "markdown",
      "metadata": {
        "id": "view-in-github",
        "colab_type": "text"
      },
      "source": [
        "<a href=\"https://colab.research.google.com/github/joaomartinsn/CursoEmVideo_/blob/main/CursoEmVideo.ipynb\" target=\"_parent\"><img src=\"https://colab.research.google.com/assets/colab-badge.svg\" alt=\"Open In Colab\"/></a>"
      ]
    },
    {
      "cell_type": "markdown",
      "source": [
        "# 10 - Condições"
      ],
      "metadata": {
        "id": "yqU8JAifWUvn"
      }
    },
    {
      "cell_type": "markdown",
      "source": [
        "Desafio 28"
      ],
      "metadata": {
        "id": "4hxSnEyZqN25"
      }
    },
    {
      "cell_type": "code",
      "execution_count": null,
      "metadata": {
        "colab": {
          "base_uri": "https://localhost:8080/"
        },
        "id": "IsSsfHq1WK5C",
        "outputId": "de567038-a4a1-45a4-d50d-3dc912bd75a1"
      },
      "outputs": [
        {
          "output_type": "stream",
          "name": "stdout",
          "text": [
            "--- PROGRAMA DE ADIVINHAÇÃO DE NÚMERO ---\n",
            "Digite um número inteiro de 0 a 5: \n",
            "3\n",
            "PROCESSANDO...\n",
            "Tente novamente! O número escolhido era 1!\n"
          ]
        }
      ],
      "source": [
        "# Programa que faça o computador pensar em um número inteiro\n",
        "# entre 0 e 5\n",
        "# e peça para o usuário tentar descobrir qual foi o número\n",
        "# escolhido pelo computador\n",
        "\n",
        "# O programa deve escrever na tela se o usuário\n",
        "# venceu ou perdeu\n",
        "\n",
        "import random\n",
        "from time import sleep # Faz o computador pensar por algum tempo\n",
        "\n",
        "print('--- PROGRAMA DE ADIVINHAÇÃO DE NÚMERO ---')\n",
        "n = int(input('Digite um número inteiro de 0 a 5: \\n'))\n",
        "sorteio = random.randrange(0,5)\n",
        "print('PROCESSANDO...')\n",
        "sleep(3)\n",
        "if n == sorteio:\n",
        "  print(f'Parabéns, você adivinhou o número! E o número escolhido foi {n}')\n",
        "else:\n",
        "  print(f'Tente novamente! O número escolhido era {sorteio}!')"
      ]
    },
    {
      "cell_type": "markdown",
      "source": [
        "Desafio 29\n",
        "\n",
        "Escreva um programa que leia a velocidade de um carro\n",
        "\n",
        "Se ele ultrapassar 80 km/h mostre uma mensagem dizendo que ele foi multado.\n",
        "\n",
        "A multa vai custar R$ 27 reais por cada km acima do limite"
      ],
      "metadata": {
        "id": "wJ7Y5iFLqLvB"
      }
    },
    {
      "cell_type": "code",
      "source": [
        "veloc = float(input('Qual a velocidade o veículo passou no radar? \\n'))\n",
        "\n",
        "if veloc > 80.0:\n",
        "  multa = (veloc - 80.0) * 27\n",
        "  print(f'MULTADO!!! O valor da multa a ser paga será de: R$ {multa}')\n",
        "else:\n",
        "  print('Você passou dentro do limite de velocidade!')"
      ],
      "metadata": {
        "id": "UHJrPyP1RS5Q",
        "colab": {
          "base_uri": "https://localhost:8080/"
        },
        "outputId": "fde60dee-726f-4329-b17c-04b8f47d0743"
      },
      "execution_count": null,
      "outputs": [
        {
          "output_type": "stream",
          "name": "stdout",
          "text": [
            "Qual a velocidade o veículo passou no radar? \n",
            "133\n",
            "MULTADO!!! O valor da multa a ser paga será de: R$ 1431.0\n"
          ]
        }
      ]
    },
    {
      "cell_type": "markdown",
      "source": [
        "Desafio 30:\n",
        "\n",
        "Crie um programa que leia um número inteiro e mostre na tela se ele é par ou ímpar.\n",
        "\n",
        "Resto 0 na divisão por 2 são pares\n",
        "Resto 1 na divisão por 2 representa ímpares"
      ],
      "metadata": {
        "id": "mn2PIY6dqa7q"
      }
    },
    {
      "cell_type": "code",
      "source": [
        "n = int(input('Digite um número inteiro: '))\n",
        "\n",
        "resto = n % 2\n",
        "\n",
        "if resto == 0:\n",
        "  print('O número digitado é par!')\n",
        "else:\n",
        "  print('O número digitado é ímpar!')"
      ],
      "metadata": {
        "colab": {
          "base_uri": "https://localhost:8080/"
        },
        "id": "jPG8F4sF4Nt5",
        "outputId": "f6344b11-3a0f-40e5-c06c-4d2ffbb596aa"
      },
      "execution_count": null,
      "outputs": [
        {
          "output_type": "stream",
          "name": "stdout",
          "text": [
            "Digite um número inteiro: 5\n",
            "O número digitado é ímpar!\n"
          ]
        }
      ]
    },
    {
      "cell_type": "markdown",
      "source": [
        "Desafio 31:\n",
        "\n",
        "Programa que pergunte a distancia da viagem em km. Calcule o preço da passagem, cobrando R$ 0,50 por km para viagens de até 200 km e R$ 0,45 para viagens mais longas."
      ],
      "metadata": {
        "id": "Xs_t6mJsqwZ6"
      }
    },
    {
      "cell_type": "code",
      "source": [
        "dist = float(input('Qual a distância da sua viagem: \\n'))\n",
        "\n",
        "if dist <= 200:\n",
        "  preco = dist * 0.5\n",
        "  print(f'O preço da sua passagem é R$ {preco:.2f} !')\n",
        "else:\n",
        "  preco = dist * 0.45\n",
        "  print(f'O preço da sua passagem é R$ {preco:.2f} !')\n"
      ],
      "metadata": {
        "colab": {
          "base_uri": "https://localhost:8080/"
        },
        "id": "4e--qONg6RUt",
        "outputId": "e0d583c8-5ab4-49d9-8f20-b6cc8744a549"
      },
      "execution_count": null,
      "outputs": [
        {
          "output_type": "stream",
          "name": "stdout",
          "text": [
            "Qual a distância da sua viagem: \n",
            "250\n",
            "O preço da sua passagem é R$ 112.50 !\n"
          ]
        }
      ]
    },
    {
      "cell_type": "markdown",
      "source": [
        "Desafio 32:\n",
        "\n",
        "Faça um programa que leia um ano qualquer e mostre se ele é bissexto.\n",
        "\n",
        "o que é um ano bissexto?"
      ],
      "metadata": {
        "id": "3hnt0i1vrDZh"
      }
    },
    {
      "cell_type": "code",
      "source": [
        "ano = int(input('Digite o ano: '))\n",
        "\n",
        "if ano % 4 == 0 and ano % 100 != 0 or ano % 400 == 0:\n",
        "  print('Ano bissexto!')\n",
        "else:\n",
        "  print('Não é bissexto!')"
      ],
      "metadata": {
        "colab": {
          "base_uri": "https://localhost:8080/"
        },
        "id": "R0h6ehNY9T1G",
        "outputId": "b46affad-7aa1-4974-898d-eebf4e85440a"
      },
      "execution_count": null,
      "outputs": [
        {
          "output_type": "stream",
          "name": "stdout",
          "text": [
            "Digite o ano: 2021\n",
            "Não é bissexto!\n"
          ]
        }
      ]
    },
    {
      "cell_type": "markdown",
      "source": [
        "Desafio 33:\n",
        "\n",
        "faça um programa que leia três número e mostre qual é o maior e qual é o menor."
      ],
      "metadata": {
        "id": "GOa9vwIIrPyZ"
      }
    },
    {
      "cell_type": "code",
      "source": [
        "n1 = int(input('Digite um número: \\n'))\n",
        "n2 = int(input('Digite mais um número: \\n'))\n",
        "n3 = int(input('Digite outro número: \\n'))\n",
        "\n",
        "if n1 > n2 and  n1 > n3:\n",
        "  print(f'O número {n1} é o maior número!')\n",
        "elif n2 > n1 and n2 > n3:\n",
        "  print(f'O número {n2} é o maior número!')\n",
        "else:\n",
        "  print(f'O número {n3} é o maior número!')\n",
        "if n1 < n2 and n1 < n3:\n",
        "  print(f'O menor número é {n1}!')\n",
        "elif n2 < n1 and n2 < n3:\n",
        "  print(f'O menor número é {n2}!')\n",
        "else:\n",
        "        print(f'O menor número é {n3}!')"
      ],
      "metadata": {
        "colab": {
          "base_uri": "https://localhost:8080/"
        },
        "id": "1PNuOUZTscYY",
        "outputId": "c0095540-3a10-4926-e58a-b5b120b4a443"
      },
      "execution_count": null,
      "outputs": [
        {
          "output_type": "stream",
          "name": "stdout",
          "text": [
            "Digite um número: \n",
            "4\n",
            "Digite mais um número: \n",
            "6\n",
            "Digite outro número: \n",
            "1\n",
            "O número 6 é o maior número!\n",
            "O menor número é 1!\n"
          ]
        }
      ]
    },
    {
      "cell_type": "markdown",
      "source": [
        "Desafio 34:\n",
        "\n",
        "Programa que pergunte o salário de um funcionário e calcule um valor de aumento.\n",
        "\n",
        "Para salários superiores a R$ 1250,00 calcule um aumento de 10%\n",
        "\n",
        "Para inferiores ou iguais, o aumento é de 15%\n"
      ],
      "metadata": {
        "id": "PeT-MHTQrVno"
      }
    },
    {
      "cell_type": "code",
      "source": [
        "\n",
        "salario = float(input('Digite o salário do funcionário: \\n'))\n",
        "\n",
        "if salario > 1250.00:\n",
        "  reajuste = (salario * 0.1) + salario\n",
        "else:\n",
        "  reajuste = (salario * 0.15) + salario\n",
        "\n",
        "print(f'O novo salário do funcionário com o aumento aplicado é de R$ {reajuste}')"
      ],
      "metadata": {
        "colab": {
          "base_uri": "https://localhost:8080/"
        },
        "id": "pmCrdFqkx3MA",
        "outputId": "c9e793b9-5909-4636-9ae1-d048ac99ecbe"
      },
      "execution_count": null,
      "outputs": [
        {
          "output_type": "stream",
          "name": "stdout",
          "text": [
            "Digite o salário do funcionário: \n",
            "1500\n",
            "O novo salário do funcionário com o aumento aplicado é de R$ 1650.0\n"
          ]
        }
      ]
    },
    {
      "cell_type": "markdown",
      "source": [
        "Desafio 35:\n",
        "\n",
        "Desenvolva um programa que leia o comprimento de 3 retas e diga ao usuário se elas podem ou não formar um triângulo.\n",
        "\n",
        "Para formar um triângulo, cada lado precisa ser menor que a soma dos outros dois."
      ],
      "metadata": {
        "id": "_m9FGS60ri5R"
      }
    },
    {
      "cell_type": "code",
      "source": [
        "r1 = float(input('Digite o tamanho da reta 1: \\n'))\n",
        "r2 = float(input('Digite o tamanho da reta 2: \\n'))\n",
        "r3 = float(input('Digite o tamanho da reta 3: \\n'))\n",
        "\n",
        "if r1 < r2 + r3 and r2 < r1 + r3 and r3 < r1 + r2:\n",
        "  print('As retas formam um triângulo!')\n",
        "else:\n",
        "  print('As retas não formam um triângulo')\n",
        "  print('Para formar um triângulo, as retas precisam ter tamanho menor que a soma das outras duas retas!')"
      ],
      "metadata": {
        "colab": {
          "base_uri": "https://localhost:8080/"
        },
        "id": "XITc2glKzk03",
        "outputId": "60a09248-49ec-491e-8c97-4e31226379d8"
      },
      "execution_count": null,
      "outputs": [
        {
          "output_type": "stream",
          "name": "stdout",
          "text": [
            "Digite o tamanho da reta 1: \n",
            "1\n",
            "Digite o tamanho da reta 2: \n",
            "0.5\n",
            "Digite o tamanho da reta 3: \n",
            "0.01\n",
            "As retas não formam um triângulo\n",
            "Para formar um triângulo, as retas precisam ter tamanho menor que a soma das outras duas retas!\n"
          ]
        }
      ]
    },
    {
      "cell_type": "markdown",
      "source": [
        "Mundo 2 - Curso de Python"
      ],
      "metadata": {
        "id": "p6VVBycpak2m"
      }
    },
    {
      "cell_type": "markdown",
      "source": [
        "Desafio 36\n",
        "\n",
        "Escreva um programa para aprovar o empréstimo bancário para a compra de uma casa. O programa vai perguntar o valor da casa, o salário do comprador e em quantos anos ele vai pagar.\n",
        "\n",
        "Calcule o valor da prestação mensal, sabendo que ela não pode exceder 30% do salário ou então o empréstimo será negado."
      ],
      "metadata": {
        "id": "AKDb7edAamIl"
      }
    },
    {
      "cell_type": "code",
      "source": [
        "print('PROGRAMA DE FINANCIAMENTO BANCÁRIO - MINHA CASA MINHA VIDA!')\n",
        "\n",
        "valor_casa = float(input('Qual o valor da casa a ser financiada: \\n'))\n",
        "salario = float(input('Digite o salário do comprador da casa: \\n'))\n",
        "qtde_anos = int(input('Em quantos anos deseja pagar: \\n'))\n",
        "meses = qtde_anos * 12 # Convertendo para meses\n",
        "prestacao_mes = valor_casa / meses # Calculando valor da prestação por mês\n",
        "\n",
        "limite = (salario * 0.3) # Limite do valor da prestação para aprovação do finan\n",
        "\n",
        "if prestacao_mes > limite:\n",
        "  print('O financiamento não foi aprovado! Tente realizar uma nova simulação!')\n",
        "  print(f'O valor máximo da prestação para o perfil do comprador não pode ultrapassar os R$ {limite:.2f}')\n",
        "  print(f'Nesta simulação, a prestação foi de R$ {prestacao_mes:.2f} !!!')\n",
        "else:\n",
        "  print(f'Financiamento aprovado! O valor da prestação será de R$ {prestacao_mes:.2f}')"
      ],
      "metadata": {
        "id": "rcmVf21Ranwk",
        "colab": {
          "base_uri": "https://localhost:8080/"
        },
        "outputId": "19fb906a-b11a-4eca-8054-70c37ce3ae31"
      },
      "execution_count": null,
      "outputs": [
        {
          "output_type": "stream",
          "name": "stdout",
          "text": [
            "PROGRAMA DE FINANCIAMENTO BANCÁRIO - MINHA CASA MINHA VIDA!\n",
            "Qual o valor da casa a ser financiada: \n",
            "650000\n",
            "Digite o salário do comprador da casa: \n",
            "3000\n",
            "Em quantos anos deseja pagar: \n",
            "30\n",
            "O financiamento não foi aprovado! Tente realizar uma nova simulação!\n",
            "O valor máximo da prestação para o perfil do comprador não pode ultrapassar os R$ 900.00\n",
            "Nesta simulação, a prestação foi de R$ 1805.56 !!!\n"
          ]
        }
      ]
    },
    {
      "cell_type": "code",
      "source": [
        "!pip install unidecode"
      ],
      "metadata": {
        "colab": {
          "base_uri": "https://localhost:8080/"
        },
        "id": "L04ovWck0wnc",
        "outputId": "f55eb88a-d391-429f-bfc5-673a85623d65"
      },
      "execution_count": null,
      "outputs": [
        {
          "output_type": "stream",
          "name": "stdout",
          "text": [
            "Collecting unidecode\n",
            "  Downloading Unidecode-1.3.8-py3-none-any.whl (235 kB)\n",
            "\u001b[2K     \u001b[90m━━━━━━━━━━━━━━━━━━━━━━━━━━━━━━━━━━━━━━━━\u001b[0m \u001b[32m235.5/235.5 kB\u001b[0m \u001b[31m2.0 MB/s\u001b[0m eta \u001b[36m0:00:00\u001b[0m\n",
            "\u001b[?25hInstalling collected packages: unidecode\n",
            "Successfully installed unidecode-1.3.8\n"
          ]
        }
      ]
    },
    {
      "cell_type": "markdown",
      "source": [
        "Desafio 37 - Escreva um programa que leia um número inteiro qualquer e peça para o usuário escolher qual será a base de conversão:\n",
        "\n",
        "1 para binário\n",
        "2 para octal\n",
        "3 para hexadecimal\n"
      ],
      "metadata": {
        "id": "OHgbFAb4wRQ3"
      }
    },
    {
      "cell_type": "code",
      "source": [
        "# função bin() - número inteiro para binário\n",
        "# função oct() - número inteiro para octal\n",
        "# função hex() - número inteiro para hexadecimal\n",
        "!pip install unidecode\n",
        "\n",
        "from unidecode import unidecode as und\n",
        "\n",
        "print('PROGRAMA DE CONVERSÃO DE NÚMERO!')\n",
        "n = int(input('Digite um número: '))\n",
        "\n",
        "print('Escolha a base de conversão dentre as seguintes: ')\n",
        "print('1. Binária, 2. Octal e 3. Hexadecimal \\n')\n",
        "\n",
        "base = str(input('Qual será a base de conversão? \\n'))\n",
        "correc_base = und(base.lower())\n",
        "\n",
        "if correc_base == 'binaria' or correc_base == '1':\n",
        "  print(f'A conversão do valor {n} em base binária é igual a: {bin(n)}')\n",
        "if correc_base == 'octal' or correc_base == '2':\n",
        "  print(f'A conversão do valor {n} em base octal é igual a: {oct(n)}')\n",
        "if correc_base == 'hexadecimal' or correc_base == '3':\n",
        "  print(f'A conversão do valor {n} em base hexadecimal é igual a: {hex(n)}')"
      ],
      "metadata": {
        "id": "91tiHmPzc0Kw",
        "colab": {
          "base_uri": "https://localhost:8080/"
        },
        "outputId": "e4812d74-a830-4c47-e62f-9f3f722c6286"
      },
      "execution_count": null,
      "outputs": [
        {
          "output_type": "stream",
          "name": "stdout",
          "text": [
            "Collecting unidecode\n",
            "  Downloading Unidecode-1.3.8-py3-none-any.whl (235 kB)\n",
            "\u001b[2K     \u001b[90m━━━━━━━━━━━━━━━━━━━━━━━━━━━━━━━━━━━━━━━━\u001b[0m \u001b[32m235.5/235.5 kB\u001b[0m \u001b[31m1.7 MB/s\u001b[0m eta \u001b[36m0:00:00\u001b[0m\n",
            "\u001b[?25hInstalling collected packages: unidecode\n",
            "Successfully installed unidecode-1.3.8\n",
            "PROGRAMA DE CONVERSÃO DE NÚMERO!\n",
            "Digite um número: 1\n",
            "Escolha a base de conversão dentre as seguintes: \n",
            "1. Binária, 2. Octal e 3. Hexadecimal \n",
            "\n",
            "Qual será a base de conversão? \n",
            "1\n",
            "A conversão do valor 1 em base binária é igual a: 0b1\n"
          ]
        }
      ]
    },
    {
      "cell_type": "markdown",
      "source": [
        "Desafio 38 - Escreva um programa que leia dois números inteiros e compare-os, mostrando na tela uma mensagem:\n",
        "\n",
        "- 0 primeiro valor é maior\n",
        "- 0 segundo valor é maior\n",
        "- Não existe valor maior, os dois são iguais."
      ],
      "metadata": {
        "id": "z5LmD4ws64F_"
      }
    },
    {
      "cell_type": "code",
      "source": [
        "n1 = int(input('Digite um número inteiro: '))\n",
        "n2 = int(input('Digite outro número inteiro: '))\n",
        "\n",
        "if n1 > n2:\n",
        "  print(f'O primeiro número ({n1}) é maior!')\n",
        "elif n1 < n2:\n",
        "  print(f'O segundo número ({n2}) é maior!')\n",
        "else:\n",
        "  print('Os dois números são iguais!')"
      ],
      "metadata": {
        "colab": {
          "base_uri": "https://localhost:8080/"
        },
        "id": "zqcmOM4_xY10",
        "outputId": "42c0f4b3-4313-47bd-9e18-7953e7cf9c91"
      },
      "execution_count": null,
      "outputs": [
        {
          "output_type": "stream",
          "name": "stdout",
          "text": [
            "Digite um número inteiro: 1\n",
            "Digite outro número inteiro: 1\n",
            "Os dois números são iguais!\n"
          ]
        }
      ]
    },
    {
      "cell_type": "markdown",
      "source": [
        "Desafio 39 - Faça um programa que leia o ano de nascimento de um jovem e informe, de acordo com a sua idade:\n",
        "\n",
        "- Se ele ainda vai se alistar ao serviço militar.\n",
        "- Se é a hora de se alistar.\n",
        "- Se já passou do tempo do alistamento.\n",
        "\n",
        "Seu programa também deverá mostrar o tempo que falta ou passou do prazo."
      ],
      "metadata": {
        "id": "9WYED_tB7FB4"
      }
    },
    {
      "cell_type": "code",
      "source": [
        "import datetime as dt\n",
        "\n",
        "print(5*'-' + ' Informações sobre alistamento militar ' + 5*'-')\n",
        "# Solicitar entrada do usuário e formatar para pegar o ano de nascimento\n",
        "idade = str(input('Digite sua data de nascimento: '))\n",
        "print('\\n')\n",
        "ano_nasc = idade[6:]\n",
        "# Transformar ano de nascimento para o tipo int\n",
        "ano_nasc_inteiro = int(ano_nasc)\n",
        "\n",
        "# Acessando a data atual e pegar o ano da data atual:\n",
        "data_atual = dt.date.today()\n",
        "ano_atual = data_atual.year\n",
        "\n",
        "idade_usuario = ano_atual - ano_nasc_inteiro\n",
        "print(f'Você completará(ou) {idade_usuario} anos em {ano_atual}!')\n",
        "\n",
        "if idade_usuario == 18:\n",
        "  print('Você precisará se alistar neste ano!')\n",
        "elif idade_usuario < 18:\n",
        "  print('Você ainda não precisa se alistar, mas fique de olho!')\n",
        "else:\n",
        "  print('Corra, você está atrasado para o alistamento. Procure a junta de ser-\\n'\n",
        "  'viço militar do seu município!')\n",
        "print('\\n')\n",
        "print('Para mais informações procure a junta de serviço militar do seu município!')"
      ],
      "metadata": {
        "id": "e0xRxEvbyEym",
        "colab": {
          "base_uri": "https://localhost:8080/"
        },
        "outputId": "d9465c5d-6bb3-4e16-e6fc-482b784c9bc7"
      },
      "execution_count": null,
      "outputs": [
        {
          "output_type": "stream",
          "name": "stdout",
          "text": [
            "----- Informações sobre alistamento militar -----\n",
            "Digite sua data de nascimento: 24/03/1997\n",
            "\n",
            "\n",
            "Você completará(ou) 27 anos em 2024!\n",
            "Corra, você está atrasado para o alistamento. Procure a junta de ser-\n",
            "viço militar do seu município!\n",
            "\n",
            "\n",
            "Para mais informações procure a junta de serviço militar do seu município!\n"
          ]
        }
      ]
    },
    {
      "cell_type": "markdown",
      "source": [
        "Desafio 40 - Crie um programa que leia duas notas de um aluno e mostre a sua média, mostrando uma mensagem no final, de acordo com a média atingida:\n",
        "\n",
        "- Média abaixo de 5.0: REPROVADO\n",
        "- Média entre de 5.0 e 6.9: RECUPERAÇÃO\n",
        "- Média 7.0 ou superior: APROVADO"
      ],
      "metadata": {
        "id": "Ncm4wNi77V1f"
      }
    },
    {
      "cell_type": "code",
      "source": [
        "Nome = str(input('Digite o nome do aluno: '))\n",
        "n1 = float(input(f'Digite a primeira nota do aluno(a) {Nome} em matemática: '))\n",
        "n2 = float(input(f'Digite a segunda nota da aluna(a) {Nome} em matemática: '))\n",
        "\n",
        "media = (n1 + n2) / 2\n",
        "\n",
        "if media < 5:\n",
        "  print(f'O aluno {Nome} foi reprovado! Sua média ficou em {media} pontos.')\n",
        "elif media >= 5 and media < 6.9:\n",
        "  print(f'O aluno {Nome} está de recuperação! A média foi igual a {media} pontos.')\n",
        "else:\n",
        "  print(f'Parabéns, você foi aprovado com a média {media} pontos.')"
      ],
      "metadata": {
        "colab": {
          "base_uri": "https://localhost:8080/"
        },
        "id": "WqXA_Qlzpix-",
        "outputId": "820533bc-ca86-4271-dfed-6bb41ac7d95e"
      },
      "execution_count": null,
      "outputs": [
        {
          "output_type": "stream",
          "name": "stdout",
          "text": [
            "Digite o nome do aluno: João\n",
            "Digite a primeira nota do aluno(a) João em matemática: 9\n",
            "Digite a segunda nota da aluna(a) João em matemática: 9.5\n",
            "Parabéns, você foi aprovado com a média 9.25 pontos.\n"
          ]
        }
      ]
    },
    {
      "cell_type": "markdown",
      "source": [
        "Desafio 41 - A confederação nacional de natação precisa de um  programa que leia o ano de nascimento de um atleta e mostre sua categoria de acordo com a idade:\n",
        "\n",
        "- Até 9 anos: MIRIM\n",
        "- Até 14 anos: INFANTIL\n",
        "- Até 19 anos: JÚNIOR\n",
        "- Até 20 anos: SÊNIOR\n",
        "- Acima: MASTER"
      ],
      "metadata": {
        "id": "eX-QemQx7uR8"
      }
    },
    {
      "cell_type": "code",
      "source": [
        "import datetime as dt\n",
        "\n",
        "print('-.-.- Site da Confederação Nacional de Natação - CNN Brasil -.-.-')\n",
        "\n",
        "# Input do ano de nascimento do usuário:\n",
        "ano_nasc = int(input('Digite seu ano de nascimento: '))\n",
        "\n",
        "# Acessando a data atual\n",
        "data_atual = dt.date.today()\n",
        "\n",
        "# Acessando o ano atual\n",
        "ano_atual = data_atual.year\n",
        "\n",
        "# Diferença entre ano atual e ano de nascimento do usuário\n",
        "idade = ano_atual - ano_nasc\n",
        "\n",
        "if idade <= 9:\n",
        "  print('Você deverá se inscrever na categoria MIRIM!')\n",
        "elif idade > 9 and idade < 14:\n",
        "  print('Você deverá se inscrever na categoria INFANTIL!')\n",
        "elif idade > 14 and idade < 19:\n",
        "  print('Você deverá se inscrever na categoria JÚNIOR!')\n",
        "elif idade == 20:\n",
        "  print('Você deverá se inscrever na categoria SÊNIOR!')\n",
        "else:\n",
        "  print('Você deverá se inscrever na categoria MASTER!')"
      ],
      "metadata": {
        "colab": {
          "base_uri": "https://localhost:8080/"
        },
        "id": "wb-Mswszde6L",
        "outputId": "3bda27c0-c3ba-4141-84a6-c49c0e51598a"
      },
      "execution_count": null,
      "outputs": [
        {
          "output_type": "stream",
          "name": "stdout",
          "text": [
            "-.-.- Site da Confederação Nacional de Natação - CNN Brasil -.-.-\n",
            "Digite seu ano de nascimento: 200\n",
            "Você deverá se inscrever na categoria MASTER!\n"
          ]
        }
      ]
    },
    {
      "cell_type": "markdown",
      "source": [
        "Desafio 42 - Refaça o desafio 35 acrescentando o recurso de mostrar o tipo de triângulo que será formado:\n",
        "\n",
        "- Equilátero: todos os lados iguais\n",
        "- Isósceles: dois lados iguais\n",
        "- Escaleno: todos os lados diferentes"
      ],
      "metadata": {
        "id": "9e3iUjPd8A_w"
      }
    },
    {
      "cell_type": "markdown",
      "source": [
        "Desafio 43 - Desenvolva uma lógica que leia o peso e a altura de uma pessoa, calcule seu IMC e mostre seu status, de acordo com a tabela abaixo:\n",
        "\n",
        "- Abaixo de 18.5: Abaixo do peso\n",
        "- Entre 18.5 e 25: Peso ideal\n",
        "- 25 até 30: Sobrepeso\n",
        "- 30 até 40: Obesidade\n",
        "- Acima de 40: Obesidade mórbida."
      ],
      "metadata": {
        "id": "kz4F8E898jte"
      }
    },
    {
      "cell_type": "markdown",
      "source": [
        "Desafio 44 - Elabore um programa que calcule o valor a ser pago por um produto, considerando o seu preço normal e condição de pagamento:\n",
        "\n",
        "- à vista dinheiro/cheque: 10% de desconto\n",
        "- à vista no cartão: 5% de desconto\n",
        "- em até 2x no cartão: preço normal\n",
        "- 3x ou mais no cartão: 5% de juros."
      ],
      "metadata": {
        "id": "dshYWdA_0ahs"
      }
    },
    {
      "cell_type": "markdown",
      "source": [],
      "metadata": {
        "id": "s9-5Yt2985jd"
      }
    },
    {
      "cell_type": "markdown",
      "source": [
        "Desafio 45 - Crie um programa que faça o computador jogar jokenpô com você!"
      ],
      "metadata": {
        "id": "4T5AM8Oe1cLP"
      }
    }
  ]
}